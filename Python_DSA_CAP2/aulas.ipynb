{
 "cells": [
  {
   "cell_type": "markdown",
   "id": "f44d128a",
   "metadata": {},
   "source": [
    "## Números"
   ]
  },
  {
   "cell_type": "code",
   "execution_count": 1,
   "id": "9d562336",
   "metadata": {},
   "outputs": [
    {
     "data": {
      "text/plain": [
       "7"
      ]
     },
     "execution_count": 1,
     "metadata": {},
     "output_type": "execute_result"
    }
   ],
   "source": [
    "#soma\n",
    "4 + 3"
   ]
  },
  {
   "cell_type": "code",
   "execution_count": 2,
   "id": "168b0586",
   "metadata": {},
   "outputs": [
    {
     "data": {
      "text/plain": [
       "2"
      ]
     },
     "execution_count": 2,
     "metadata": {},
     "output_type": "execute_result"
    }
   ],
   "source": [
    "# subtração\n",
    "\n",
    "5 - 3"
   ]
  },
  {
   "cell_type": "code",
   "execution_count": 3,
   "id": "3e9c9fd5",
   "metadata": {},
   "outputs": [
    {
     "data": {
      "text/plain": [
       "12"
      ]
     },
     "execution_count": 3,
     "metadata": {},
     "output_type": "execute_result"
    }
   ],
   "source": [
    "# Multiplicação\n",
    "4 * 3"
   ]
  },
  {
   "cell_type": "code",
   "execution_count": 4,
   "id": "70afe170",
   "metadata": {},
   "outputs": [
    {
     "data": {
      "text/plain": [
       "3.0"
      ]
     },
     "execution_count": 4,
     "metadata": {},
     "output_type": "execute_result"
    }
   ],
   "source": [
    "# Divisão\n",
    "12 / 4"
   ]
  },
  {
   "cell_type": "code",
   "execution_count": 5,
   "id": "4de5c89a",
   "metadata": {},
   "outputs": [
    {
     "data": {
      "text/plain": [
       "27"
      ]
     },
     "execution_count": 5,
     "metadata": {},
     "output_type": "execute_result"
    }
   ],
   "source": [
    "# Potência\n",
    "3 ** 3"
   ]
  },
  {
   "cell_type": "code",
   "execution_count": 8,
   "id": "8d0ec60b",
   "metadata": {},
   "outputs": [
    {
     "data": {
      "text/plain": [
       "5"
      ]
     },
     "execution_count": 8,
     "metadata": {},
     "output_type": "execute_result"
    }
   ],
   "source": [
    "# Módulo - Resto da divisão\n",
    "\n",
    "12 % 7"
   ]
  },
  {
   "cell_type": "markdown",
   "id": "08f3b19d",
   "metadata": {},
   "source": [
    "### Funções abs, round e pow"
   ]
  },
  {
   "cell_type": "code",
   "execution_count": 9,
   "id": "b4f7bbff",
   "metadata": {},
   "outputs": [
    {
     "data": {
      "text/plain": [
       "10"
      ]
     },
     "execution_count": 9,
     "metadata": {},
     "output_type": "execute_result"
    }
   ],
   "source": [
    "# Função abs - retorna o valor absoluto\n",
    "abs(-10)"
   ]
  },
  {
   "cell_type": "code",
   "execution_count": 10,
   "id": "424ad8ce",
   "metadata": {},
   "outputs": [
    {
     "data": {
      "text/plain": [
       "10"
      ]
     },
     "execution_count": 10,
     "metadata": {},
     "output_type": "execute_result"
    }
   ],
   "source": [
    "abs(10)"
   ]
  },
  {
   "cell_type": "code",
   "execution_count": 11,
   "id": "cd3797cc",
   "metadata": {},
   "outputs": [
    {
     "data": {
      "text/plain": [
       "3.14"
      ]
     },
     "execution_count": 11,
     "metadata": {},
     "output_type": "execute_result"
    }
   ],
   "source": [
    "# Função round - retorna o valor com arredondamento --> round(valor, n de casas decimais)\n",
    "round(3.14151922, 2)"
   ]
  },
  {
   "cell_type": "code",
   "execution_count": 12,
   "id": "c4f22c74",
   "metadata": {},
   "outputs": [
    {
     "data": {
      "text/plain": [
       "16"
      ]
     },
     "execution_count": 12,
     "metadata": {},
     "output_type": "execute_result"
    }
   ],
   "source": [
    "# Função pow - retorna a potência dos numeros\n",
    "pow(4,2)"
   ]
  },
  {
   "cell_type": "code",
   "execution_count": 14,
   "id": "13e2a121",
   "metadata": {},
   "outputs": [
    {
     "data": {
      "text/plain": [
       "36"
      ]
     },
     "execution_count": 14,
     "metadata": {},
     "output_type": "execute_result"
    }
   ],
   "source": [
    "pow(6,2)"
   ]
  },
  {
   "cell_type": "markdown",
   "id": "47c54eb5",
   "metadata": {},
   "source": [
    "## Variáveis"
   ]
  },
  {
   "cell_type": "code",
   "execution_count": 16,
   "id": "68eea854",
   "metadata": {},
   "outputs": [],
   "source": [
    "# Declaração múltipla\n",
    "pessoa1, pessoa2 = 'Maria', 'João'"
   ]
  },
  {
   "cell_type": "code",
   "execution_count": 17,
   "id": "7537bdc4",
   "metadata": {},
   "outputs": [
    {
     "data": {
      "text/plain": [
       "'Maria'"
      ]
     },
     "execution_count": 17,
     "metadata": {},
     "output_type": "execute_result"
    }
   ],
   "source": [
    "pessoa1"
   ]
  },
  {
   "cell_type": "code",
   "execution_count": 18,
   "id": "a71d969e",
   "metadata": {},
   "outputs": [
    {
     "data": {
      "text/plain": [
       "'João'"
      ]
     },
     "execution_count": 18,
     "metadata": {},
     "output_type": "execute_result"
    }
   ],
   "source": [
    "pessoa2"
   ]
  },
  {
   "cell_type": "code",
   "execution_count": 21,
   "id": "c83e0c1f",
   "metadata": {},
   "outputs": [],
   "source": [
    "# Concatenação de Variáveis\n",
    "fullname = pessoa1 + ' e ' + pessoa2"
   ]
  },
  {
   "cell_type": "code",
   "execution_count": 22,
   "id": "19b9b7dc",
   "metadata": {},
   "outputs": [
    {
     "data": {
      "text/plain": [
       "'Maria e João'"
      ]
     },
     "execution_count": 22,
     "metadata": {},
     "output_type": "execute_result"
    }
   ],
   "source": [
    "fullname"
   ]
  },
  {
   "cell_type": "markdown",
   "id": "c1ae8486",
   "metadata": {},
   "source": [
    "## String"
   ]
  },
  {
   "cell_type": "code",
   "execution_count": 23,
   "id": "07b45d4d",
   "metadata": {},
   "outputs": [],
   "source": [
    "s = 'João e Maria estavam brincando'"
   ]
  },
  {
   "cell_type": "code",
   "execution_count": 24,
   "id": "473036a8",
   "metadata": {},
   "outputs": [
    {
     "data": {
      "text/plain": [
       "'João e Maria estavam brincando'"
      ]
     },
     "execution_count": 24,
     "metadata": {},
     "output_type": "execute_result"
    }
   ],
   "source": [
    "s"
   ]
  },
  {
   "cell_type": "code",
   "execution_count": 25,
   "id": "f61321ba",
   "metadata": {},
   "outputs": [
    {
     "data": {
      "text/plain": [
       "'JOÃO E MARIA ESTAVAM BRINCANDO'"
      ]
     },
     "execution_count": 25,
     "metadata": {},
     "output_type": "execute_result"
    }
   ],
   "source": [
    "s.upper()"
   ]
  },
  {
   "cell_type": "code",
   "execution_count": 26,
   "id": "7252da75",
   "metadata": {},
   "outputs": [
    {
     "data": {
      "text/plain": [
       "'joão e maria estavam brincando'"
      ]
     },
     "execution_count": 26,
     "metadata": {},
     "output_type": "execute_result"
    }
   ],
   "source": [
    "s.lower()"
   ]
  },
  {
   "cell_type": "code",
   "execution_count": 27,
   "id": "d14a39cb",
   "metadata": {},
   "outputs": [
    {
     "data": {
      "text/plain": [
       "['João', 'e', 'Maria', 'estavam', 'brincando']"
      ]
     },
     "execution_count": 27,
     "metadata": {},
     "output_type": "execute_result"
    }
   ],
   "source": [
    "# Dividir uma string por espaços em branco\n",
    "s.split()"
   ]
  },
  {
   "cell_type": "code",
   "execution_count": 29,
   "id": "70dc9c05",
   "metadata": {},
   "outputs": [
    {
     "data": {
      "text/plain": [
       "['João e M', 'ri', ' est', 'v', 'm brinc', 'ndo']"
      ]
     },
     "execution_count": 29,
     "metadata": {},
     "output_type": "execute_result"
    }
   ],
   "source": [
    "# Dividir a string por um elemento específico\n",
    "s.split('a')"
   ]
  },
  {
   "cell_type": "code",
   "execution_count": 30,
   "id": "bf546819",
   "metadata": {},
   "outputs": [
    {
     "data": {
      "text/plain": [
       "5"
      ]
     },
     "execution_count": 30,
     "metadata": {},
     "output_type": "execute_result"
    }
   ],
   "source": [
    "# Contar \n",
    "s.count('a')"
   ]
  },
  {
   "cell_type": "code",
   "execution_count": 31,
   "id": "211fd84d",
   "metadata": {},
   "outputs": [
    {
     "data": {
      "text/plain": [
       "8"
      ]
     },
     "execution_count": 31,
     "metadata": {},
     "output_type": "execute_result"
    }
   ],
   "source": [
    "# Retorna a primeira que encontrar\n",
    "s.find('a')"
   ]
  },
  {
   "cell_type": "markdown",
   "id": "5562ddb6",
   "metadata": {},
   "source": [
    "## Listas"
   ]
  },
  {
   "cell_type": "code",
   "execution_count": 32,
   "id": "fe087a6e",
   "metadata": {},
   "outputs": [],
   "source": [
    "lista = [13,12,0.65,'Lista']"
   ]
  },
  {
   "cell_type": "code",
   "execution_count": 33,
   "id": "fca57647",
   "metadata": {},
   "outputs": [
    {
     "name": "stdout",
     "output_type": "stream",
     "text": [
      "[13, 12, 0.65, 'Lista']\n"
     ]
    }
   ],
   "source": [
    "print(lista)"
   ]
  },
  {
   "cell_type": "markdown",
   "id": "0fd22603",
   "metadata": {},
   "source": [
    "### Listas de listas - Matrizes"
   ]
  },
  {
   "cell_type": "code",
   "execution_count": 34,
   "id": "9e7e9350",
   "metadata": {},
   "outputs": [],
   "source": [
    "list = [[1,2,3],[4,5,6],[7,8,9]]"
   ]
  },
  {
   "cell_type": "code",
   "execution_count": 35,
   "id": "6ddf5b19",
   "metadata": {},
   "outputs": [
    {
     "name": "stdout",
     "output_type": "stream",
     "text": [
      "[[1, 2, 3], [4, 5, 6], [7, 8, 9]]\n"
     ]
    }
   ],
   "source": [
    "print(list)"
   ]
  },
  {
   "cell_type": "code",
   "execution_count": 36,
   "id": "b26d5c9f",
   "metadata": {},
   "outputs": [
    {
     "name": "stdout",
     "output_type": "stream",
     "text": [
      "6\n"
     ]
    }
   ],
   "source": [
    "print(list[1][2])"
   ]
  },
  {
   "cell_type": "markdown",
   "id": "5281b487",
   "metadata": {},
   "source": [
    "## Dicionários"
   ]
  },
  {
   "cell_type": "code",
   "execution_count": 37,
   "id": "3366259a",
   "metadata": {},
   "outputs": [],
   "source": [
    "estudante = {'Carlos':20, 'Maria':13}"
   ]
  },
  {
   "cell_type": "code",
   "execution_count": 38,
   "id": "77259f4c",
   "metadata": {},
   "outputs": [
    {
     "data": {
      "text/plain": [
       "{'Carlos': 20, 'Maria': 13}"
      ]
     },
     "execution_count": 38,
     "metadata": {},
     "output_type": "execute_result"
    }
   ],
   "source": [
    "estudante"
   ]
  },
  {
   "cell_type": "code",
   "execution_count": 39,
   "id": "455807fd",
   "metadata": {},
   "outputs": [
    {
     "data": {
      "text/plain": [
       "20"
      ]
     },
     "execution_count": 39,
     "metadata": {},
     "output_type": "execute_result"
    }
   ],
   "source": [
    "estudante['Carlos']"
   ]
  },
  {
   "cell_type": "markdown",
   "id": "780e3310",
   "metadata": {},
   "source": [
    "## Tuplas"
   ]
  },
  {
   "cell_type": "code",
   "execution_count": 40,
   "id": "f4ce0c24",
   "metadata": {},
   "outputs": [],
   "source": [
    "tupla = ('Leite', 1, 3)"
   ]
  },
  {
   "cell_type": "code",
   "execution_count": 41,
   "id": "b055e788",
   "metadata": {},
   "outputs": [
    {
     "data": {
      "text/plain": [
       "('Leite', 1, 3)"
      ]
     },
     "execution_count": 41,
     "metadata": {},
     "output_type": "execute_result"
    }
   ],
   "source": [
    "tupla"
   ]
  },
  {
   "cell_type": "code",
   "execution_count": 42,
   "id": "744cc163",
   "metadata": {},
   "outputs": [
    {
     "data": {
      "text/plain": [
       "'Leite'"
      ]
     },
     "execution_count": 42,
     "metadata": {},
     "output_type": "execute_result"
    }
   ],
   "source": [
    "tupla[0]"
   ]
  },
  {
   "cell_type": "code",
   "execution_count": 44,
   "id": "bfa827e5",
   "metadata": {},
   "outputs": [
    {
     "data": {
      "text/plain": [
       "3"
      ]
     },
     "execution_count": 44,
     "metadata": {},
     "output_type": "execute_result"
    }
   ],
   "source": [
    "len(tupla)"
   ]
  }
 ],
 "metadata": {
  "kernelspec": {
   "display_name": "Python 3 (ipykernel)",
   "language": "python",
   "name": "python3"
  },
  "language_info": {
   "codemirror_mode": {
    "name": "ipython",
    "version": 3
   },
   "file_extension": ".py",
   "mimetype": "text/x-python",
   "name": "python",
   "nbconvert_exporter": "python",
   "pygments_lexer": "ipython3",
   "version": "3.9.12"
  }
 },
 "nbformat": 4,
 "nbformat_minor": 5
}
