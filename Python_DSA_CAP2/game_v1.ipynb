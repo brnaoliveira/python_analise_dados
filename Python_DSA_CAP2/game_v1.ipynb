{
 "cells": [
  {
   "cell_type": "code",
   "execution_count": 1,
   "id": "b51d7201",
   "metadata": {},
   "outputs": [],
   "source": [
    "# Game Ping-Pong\n",
    "\n",
    "from tkinter import *   #importando a biblioteca tkinter\n",
    "import random  #importando a biblioteca random\n",
    "import time #impotando a biblioteca time\n"
   ]
  },
  {
   "cell_type": "code",
   "execution_count": 2,
   "id": "a7c006dc",
   "metadata": {},
   "outputs": [
    {
     "name": "stdout",
     "output_type": "stream",
     "text": [
      "Qual nível você gostaria de jogar? 1/2/3/4/5 \n",
      "5\n"
     ]
    }
   ],
   "source": [
    "#variavél que recebe um valor digitado pelo usuário\n",
    "level = int(input(\"Qual nível você gostaria de jogar? 1/2/3/4/5 \\n\"))  \n",
    "\n",
    "length = 500/level  #variável que define o comprimento do jogo"
   ]
  },
  {
   "cell_type": "code",
   "execution_count": 3,
   "id": "5cdb451c",
   "metadata": {},
   "outputs": [
    {
     "data": {
      "text/plain": [
       "''"
      ]
     },
     "execution_count": 3,
     "metadata": {},
     "output_type": "execute_result"
    }
   ],
   "source": [
    "#Instância do objeto Tk\n",
    "root = Tk()  \n",
    "root.title(\"Ping Pong\")\n",
    "root.resizable(0,0)\n",
    "root.wm_attributes(\"-topmost\", -1)"
   ]
  },
  {
   "cell_type": "code",
   "execution_count": 4,
   "id": "dde9f5c2",
   "metadata": {},
   "outputs": [],
   "source": [
    "# Variável recebendo o resultado da função Canvas\n",
    "canvas = Canvas(root, width=800, height=600, bd=0,highlightthickness=0)  \n",
    "canvas.pack()"
   ]
  },
  {
   "cell_type": "code",
   "execution_count": 5,
   "id": "1859b2ad",
   "metadata": {},
   "outputs": [],
   "source": [
    "root.update()"
   ]
  },
  {
   "cell_type": "code",
   "execution_count": 6,
   "id": "8ba06ca4",
   "metadata": {},
   "outputs": [],
   "source": [
    "# Variáveis\n",
    "count = 0\n",
    "lost = False"
   ]
  },
  {
   "cell_type": "code",
   "execution_count": 7,
   "id": "79b85160",
   "metadata": {},
   "outputs": [],
   "source": [
    "#Classe da bola\n",
    "class Bola:\n",
    "    def __init__(self, canvas, Barra, color):\n",
    "        #Variáveis\n",
    "        self.canvas = canvas\n",
    "        self.Barra = Barra\n",
    "        self.id = canvas.create_oval(0, 0, 15, 15, fill=color)\n",
    "        self.canvas.move(self.id, 245, 200)\n",
    "\n",
    "        starts_x = [-3, -2, -1, 1, 2, 3]  #lista \n",
    "        random.shuffle(starts_x)\n",
    "        \n",
    "        \n",
    "        #Variáveis\n",
    "        self.x = starts_x[0]   #variavél que recebe um valor da lista\n",
    "        self.y = -3\n",
    "\n",
    "        self.canvas_height = self.canvas.winfo_height()\n",
    "        self.canvas_width = self.canvas.winfo_width()\n",
    "\n",
    "\n",
    "        #Função draw \n",
    "    def draw(self):\n",
    "        self.canvas.move(self.id, self.x, self.y)\n",
    "\n",
    "        pos = self.canvas.coords(self.id)\n",
    "\n",
    "        if pos[1] <= 0:\n",
    "            self.y = 3\n",
    "\n",
    "        if pos[3] >= self.canvas_height:\n",
    "            self.y = -3\n",
    "\n",
    "        if pos[0] <= 0:\n",
    "            self.x = 3\n",
    "            \n",
    "        if pos[2] >= self.canvas_width:\n",
    "            self.x = -3\n",
    "\n",
    "        self.Barra_pos = self.canvas.coords(self.Barra.id)\n",
    "\n",
    "\n",
    "        if pos[2] >= self.Barra_pos[0] and pos[0] <= self.Barra_pos[2]:\n",
    "            if pos[3] >= self.Barra_pos[1] and pos[3] <= self.Barra_pos[3]:\n",
    "                self.y = -3\n",
    "                global count\n",
    "                count +=1\n",
    "                score()\n",
    "\n",
    "\n",
    "        if pos[3] <= self.canvas_height:\n",
    "            self.canvas.after(10, self.draw)\n",
    "        else:\n",
    "            game_over()\n",
    "            global lost\n",
    "            lost = True\n"
   ]
  },
  {
   "cell_type": "code",
   "execution_count": 8,
   "id": "5204c27f",
   "metadata": {},
   "outputs": [],
   "source": [
    "#Classe para a barra\n",
    "class Barra:\n",
    "    def __init__(self, canvas, color):\n",
    "        self.canvas = canvas\n",
    "        self.id = canvas.create_rectangle(0, 0, length, 10, fill=color)\n",
    "        self.canvas.move(self.id, 200, 400)\n",
    "\n",
    "        self.x = 0\n",
    "\n",
    "        self.canvas_width = self.canvas.winfo_width()\n",
    "\n",
    "        self.canvas.bind_all(\"<KeyPress-Left>\", self.move_left)\n",
    "        self.canvas.bind_all(\"<KeyPress-Right>\", self.move_right)\n",
    "\n",
    "    def draw(self):\n",
    "        self.canvas.move(self.id, self.x, 0)\n",
    "\n",
    "        self.pos = self.canvas.coords(self.id)\n",
    "\n",
    "        if self.pos[0] <= 0:\n",
    "            self.x = 0\n",
    "        \n",
    "        if self.pos[2] >= self.canvas_width:\n",
    "            self.x = 0\n",
    "        \n",
    "        global lost\n",
    "        \n",
    "        if lost == False:\n",
    "            self.canvas.after(10, self.draw)\n",
    "\n",
    "    def move_left(self, event):\n",
    "        if self.pos[0] >= 0:\n",
    "            self.x = -3\n",
    "\n",
    "    def move_right(self, event):\n",
    "        if self.pos[2] <= self.canvas_width:\n",
    "            self.x = 3\n",
    "\n"
   ]
  },
  {
   "cell_type": "code",
   "execution_count": 9,
   "id": "1e8fe1af",
   "metadata": {},
   "outputs": [],
   "source": [
    "#Função para iniciar jogo\n",
    "def start_game(event):\n",
    "    \n",
    "    #Variáveis\n",
    "    global lost, count\n",
    "    lost = False\n",
    "    count = 0\n",
    "    \n",
    "    #Chamada à função\n",
    "    score()\n",
    "    \n",
    "    #Variável que recebe o resultado da função\n",
    "    canvas.itemconfig(game, text=\" \")\n",
    "\n",
    "    \n",
    "    #Métodos dos objetos\n",
    "    time.sleep(1)\n",
    "    Barra.draw()\n",
    "    Bola.draw()\n",
    "\n",
    "#Função para acumular pontos\n",
    "def score():\n",
    "    canvas.itemconfig(score_now, text=\"Pontos: \" + str(count))\n",
    "\n",
    "#Função para fim de jogo\n",
    "def game_over():\n",
    "    canvas.itemconfig(game, text=\"Game over!\")\n"
   ]
  },
  {
   "cell_type": "code",
   "execution_count": 10,
   "id": "b6e6388f",
   "metadata": {},
   "outputs": [],
   "source": [
    "#Instâncias dos objetos Barra e Bola\n",
    "Barra = Barra(canvas, \"orange\")\n",
    "Bola = Bola(canvas, Barra, \"purple\")\n",
    "\n",
    "\n",
    "# Variáveis que recebem o resultado das funções\n",
    "score_now = canvas.create_text(430, 20, text=\"Pontos: \" + str(count), fill = \"green\", font=(\"Arial\", 16))\n",
    "game = canvas.create_text(400, 300, text=\" \", fill=\"red\", font=(\"Arial\", 40))\n",
    "\n",
    "\n",
    "canvas.bind_all(\"<Button-1>\", start_game)\n",
    "\n"
   ]
  },
  {
   "cell_type": "code",
   "execution_count": null,
   "id": "5b5a140a",
   "metadata": {},
   "outputs": [],
   "source": [
    "# Executa o programa\n",
    "root.mainloop()"
   ]
  }
 ],
 "metadata": {
  "kernelspec": {
   "display_name": "Python 3 (ipykernel)",
   "language": "python",
   "name": "python3"
  },
  "language_info": {
   "codemirror_mode": {
    "name": "ipython",
    "version": 3
   },
   "file_extension": ".py",
   "mimetype": "text/x-python",
   "name": "python",
   "nbconvert_exporter": "python",
   "pygments_lexer": "ipython3",
   "version": "3.9.12"
  }
 },
 "nbformat": 4,
 "nbformat_minor": 5
}
