{
 "cells": [
  {
   "cell_type": "markdown",
   "id": "6df23da3",
   "metadata": {},
   "source": [
    "## CONDICIONAIS\n"
   ]
  },
  {
   "cell_type": "code",
   "execution_count": 5,
   "id": "865d9324",
   "metadata": {},
   "outputs": [
    {
     "name": "stdout",
     "output_type": "stream",
     "text": [
      "True\n",
      "Desculpe, mas você não pode entrar\n"
     ]
    }
   ],
   "source": [
    "# if e else\n",
    "\n",
    "if 5 == 5:\n",
    "    print(True)\n",
    "    \n",
    "#condicionais aninhados\n",
    "\n",
    "#idade =18\n",
    "idade=12\n",
    "nome= 'Bob'\n",
    "\n",
    "if idade>13:\n",
    "    if nome == 'Bob':\n",
    "        print(\"Ok Bob, você pode entrar\")\n",
    "else:\n",
    "    print('Desculpe, mas você não pode entrar')"
   ]
  },
  {
   "cell_type": "code",
   "execution_count": 7,
   "id": "50660f7a",
   "metadata": {},
   "outputs": [
    {
     "name": "stdout",
     "output_type": "stream",
     "text": [
      "Ok Bob, você pode entrar\n"
     ]
    }
   ],
   "source": [
    "idade =18\n",
    "#idade=12\n",
    "nome= 'Bob'\n",
    "\n",
    "if idade>13 and nome=='Bob':\n",
    "    print(\"Ok Bob, você pode entrar\")\n",
    "else:\n",
    "    print('Desculpe, mas você não pode entrar')"
   ]
  },
  {
   "cell_type": "code",
   "execution_count": 8,
   "id": "0448c589",
   "metadata": {},
   "outputs": [],
   "source": [
    "# if == Se\n",
    "# else == Se não\n",
    "# elif == Se não, se"
   ]
  },
  {
   "cell_type": "markdown",
   "id": "e5a8c418",
   "metadata": {},
   "source": [
    "# Estrutura de repetição"
   ]
  },
  {
   "cell_type": "markdown",
   "id": "62cab499",
   "metadata": {},
   "source": [
    "## loop for:\n",
    "### for item in série-de-item:\n",
    "###      Executar comandos\n",
    "\n",
    "\n"
   ]
  },
  {
   "cell_type": "code",
   "execution_count": null,
   "id": "4bdfe8d2",
   "metadata": {},
   "outputs": [],
   "source": []
  }
 ],
 "metadata": {
  "kernelspec": {
   "display_name": "Python 3 (ipykernel)",
   "language": "python",
   "name": "python3"
  },
  "language_info": {
   "codemirror_mode": {
    "name": "ipython",
    "version": 3
   },
   "file_extension": ".py",
   "mimetype": "text/x-python",
   "name": "python",
   "nbconvert_exporter": "python",
   "pygments_lexer": "ipython3",
   "version": "3.9.12"
  }
 },
 "nbformat": 4,
 "nbformat_minor": 5
}
