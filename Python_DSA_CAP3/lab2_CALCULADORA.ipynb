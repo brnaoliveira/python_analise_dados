{
 "cells": [
  {
   "cell_type": "markdown",
   "id": "33114157",
   "metadata": {},
   "source": [
    "# Calculadora"
   ]
  },
  {
   "cell_type": "code",
   "execution_count": 1,
   "id": "98f9284c",
   "metadata": {},
   "outputs": [],
   "source": [
    "def soma(x,y):\n",
    "    soma=x+y\n",
    "    print(\"O resultado da soma é = \", soma)"
   ]
  },
  {
   "cell_type": "code",
   "execution_count": 2,
   "id": "b65fd8e0",
   "metadata": {},
   "outputs": [],
   "source": [
    "def subtracao(x,y):\n",
    "    subtracao=x-y\n",
    "    print(\"O resultado da subtração é = \", subtracao)"
   ]
  },
  {
   "cell_type": "code",
   "execution_count": 3,
   "id": "68a3b352",
   "metadata": {},
   "outputs": [],
   "source": [
    "def divisao(x,y):\n",
    "    divisao= x/y\n",
    "    print(\"O resultado da divisão é = \", divisao)"
   ]
  },
  {
   "cell_type": "code",
   "execution_count": 4,
   "id": "2ff43de8",
   "metadata": {},
   "outputs": [],
   "source": [
    "def multiplicacao(x,y):\n",
    "    multiplicacao= x*y\n",
    "    print(\"O resultado da multiplicação é = \", multiplicacao)"
   ]
  },
  {
   "cell_type": "code",
   "execution_count": null,
   "id": "24d8483a",
   "metadata": {},
   "outputs": [],
   "source": [
    "print('Qual operação você quer realizar?'\n",
    "      '  Digite:' + \n",
    "      '\\n' + '1 para SOMA'+ \n",
    "      '\\n' + '2 para SUBTRAÇÃO' + \n",
    "      '\\n' + '3 para DIVISÃO' + \n",
    "      '\\n' + '4 para MULTIPLICAÇÃO')\n",
    "\n",
    "recebe= input(' ')\n",
    "x=float(input('Primeiro número= '))\n",
    "y=float(input('Segundo número= '))"
   ]
  },
  {
   "cell_type": "code",
   "execution_count": 10,
   "id": "b0ae8312",
   "metadata": {},
   "outputs": [
    {
     "name": "stdout",
     "output_type": "stream",
     "text": [
      "O resultado da multiplicação é =  56780.0\n"
     ]
    }
   ],
   "source": [
    "if recebe == '1':\n",
    "     soma(x,y)\n",
    "elif recebe == '2':\n",
    "     subtracao(x,y)\n",
    "elif recebe == '3':\n",
    "    divisao(x,y)\n",
    "elif recebe == '4':\n",
    "      multiplicacao(x,y)\n",
    "  "
   ]
  },
  {
   "cell_type": "code",
   "execution_count": null,
   "id": "fd8ed449",
   "metadata": {},
   "outputs": [],
   "source": []
  }
 ],
 "metadata": {
  "kernelspec": {
   "display_name": "Python 3 (ipykernel)",
   "language": "python",
   "name": "python3"
  },
  "language_info": {
   "codemirror_mode": {
    "name": "ipython",
    "version": 3
   },
   "file_extension": ".py",
   "mimetype": "text/x-python",
   "name": "python",
   "nbconvert_exporter": "python",
   "pygments_lexer": "ipython3",
   "version": "3.9.12"
  }
 },
 "nbformat": 4,
 "nbformat_minor": 5
}
