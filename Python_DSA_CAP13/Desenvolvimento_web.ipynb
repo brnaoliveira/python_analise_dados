{
 "cells": [
  {
   "cell_type": "markdown",
   "metadata": {},
   "source": [
    "# Desenvolvimento web"
   ]
  },
  {
   "cell_type": "markdown",
   "metadata": {},
   "source": [
    "- Duas partes principais:\n",
    "\n",
    "\n",
    "        Front-End:\n",
    "            - Tecnologias:\n",
    "            HTML\n",
    "            CSS\n",
    "            XHTML\n",
    "            JAVASCRIPT\n",
    "\n",
    "\n",
    "        Back-End\n",
    "            - Tecnologias:\n",
    "            PHP\n",
    "            ASP\n",
    "            NODE.JS\n",
    "            JAVA\n",
    "            PYTHON(DJANGO, FLASK)\n",
    "            RUBY"
   ]
  },
  {
   "cell_type": "markdown",
   "metadata": {},
   "source": [
    "- Como funciona uma aplicação web?\n",
    "        1° Servidor web\n",
    "        2° Solicitações dos Usuários\n",
    "        3° Protocolo HTTP\n",
    "        4° Métodos HTTP (GET, POST)\n",
    "        5° Resposta do HTTP"
   ]
  },
  {
   "cell_type": "markdown",
   "metadata": {},
   "source": [
    "- Python Web Frameworks - coleção de pacotes para desenvolvimento web:\n",
    "    Django - o principal\n",
    "    Pyramid\n",
    "    Web2py\n",
    "\n",
    "    Microframeworks:\n",
    "    Flask"
   ]
  }
 ],
 "metadata": {
  "kernelspec": {
   "display_name": "Python 3.10.7 64-bit",
   "language": "python",
   "name": "python3"
  },
  "language_info": {
   "codemirror_mode": {
    "name": "ipython",
    "version": 3
   },
   "file_extension": ".py",
   "mimetype": "text/x-python",
   "name": "python",
   "nbconvert_exporter": "python",
   "pygments_lexer": "ipython3",
   "version": "3.10.7"
  },
  "orig_nbformat": 4,
  "vscode": {
   "interpreter": {
    "hash": "fee127bbb05d422205529e3b2442aa2f6a8a60c2a6406f0c7b9a160de6ca12b0"
   }
  }
 },
 "nbformat": 4,
 "nbformat_minor": 2
}
