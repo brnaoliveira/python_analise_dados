{
 "cells": [
  {
   "cell_type": "markdown",
   "id": "9c9e73a0",
   "metadata": {},
   "source": [
    "# Mini-Projeto 4 - Inteligência Artificial na Agricultura"
   ]
  },
  {
   "cell_type": "markdown",
   "id": "8d6ed482",
   "metadata": {},
   "source": [
    "Nosso  objetivo  será  construir  um  modelo  de  IA  para  classificação  que,  ao  receber  uma imagem, vai identificar se a imagem é de uma fruta ou vegetal e indicar o nome exato da fruta ou vegetal."
   ]
  },
  {
   "cell_type": "code",
   "execution_count": 1,
   "id": "55772c9e",
   "metadata": {},
   "outputs": [],
   "source": [
    "#imports\n",
    "import sklearn\n",
    "import numpy as np #biblioteca para computação matemática\n",
    "import tensorflow as tf  #framework para construir modelos de deep learning\n",
    "import matplotlib.pyplot as plt  #gerar imagens\n",
    "from pathlib import Path #coletar caminhos\n",
    "from sklearn.preprocessing import LabelEncoder #fazer o encoder dos labels\n",
    "from sklearn.model_selection import train_test_split  #fazer divisão nos dados\n",
    "#Funções para construir e avaliar o modelo\n",
    "from tensorflow.keras.layers.experimental.preprocessing import RandomFlip\n",
    "from tensorflow.keras.layers.experimental.preprocessing import RandomRotation\n",
    "from tensorflow.keras.layers.experimental.preprocessing import RandomZoom\n",
    "from tensorflow.keras.applications import EfficientNetB3\n",
    "from tensorflow.keras.optimizers import Adam\n",
    "from tensorflow.keras.metrics import Precision\n",
    "from tensorflow.keras.metrics import Recall"
   ]
  },
  {
   "cell_type": "code",
   "execution_count": 2,
   "id": "86752ced",
   "metadata": {},
   "outputs": [],
   "source": [
    "# Seed para reprodutibilidade\n",
    "tf.random.set_seed(4)"
   ]
  },
  {
   "cell_type": "markdown",
   "id": "0fee4cb7",
   "metadata": {},
   "source": [
    "## Carregando os Dados (Imagens)"
   ]
  },
  {
   "cell_type": "code",
   "execution_count": 3,
   "id": "06b908b7",
   "metadata": {},
   "outputs": [
    {
     "name": "stdout",
     "output_type": "stream",
     "text": [
      "c:\\Users\\bruna\\Jupyter\\Python_DSA_CAP12\n"
     ]
    }
   ],
   "source": [
    "# Diretório atual\n",
    "diretorio_atual = Path.cwd()\n",
    "print(diretorio_atual)"
   ]
  },
  {
   "cell_type": "code",
   "execution_count": 4,
   "id": "2846894f",
   "metadata": {},
   "outputs": [],
   "source": [
    "#Caminho para os dados de treino\n",
    "caminho_dados_treino = Path('fruits-360/Training')"
   ]
  },
  {
   "cell_type": "code",
   "execution_count": 5,
   "id": "7ecdb1a3",
   "metadata": {},
   "outputs": [],
   "source": [
    "#Caminho para os dados de teste\n",
    "caminho_dados_teste = Path('fruits-360/Test')"
   ]
  },
  {
   "cell_type": "code",
   "execution_count": 6,
   "id": "1ec88ac0",
   "metadata": {},
   "outputs": [],
   "source": [
    "# Listando o conteúdo da pasta\n",
    "imagens_treino = list(caminho_dados_treino.glob(\"*/*\"))"
   ]
  },
  {
   "cell_type": "code",
   "execution_count": 7,
   "id": "cc886bbc",
   "metadata": {},
   "outputs": [
    {
     "data": {
      "text/plain": [
       "[WindowsPath('fruits-360/Training/Apple Crimson Snow/r_90_100.jpg'),\n",
       " WindowsPath('fruits-360/Training/Apple Crimson Snow/r_91_100.jpg'),\n",
       " WindowsPath('fruits-360/Training/Apple Crimson Snow/r_92_100.jpg'),\n",
       " WindowsPath('fruits-360/Training/Apple Crimson Snow/r_93_100.jpg'),\n",
       " WindowsPath('fruits-360/Training/Apple Crimson Snow/r_94_100.jpg'),\n",
       " WindowsPath('fruits-360/Training/Apple Crimson Snow/r_95_100.jpg'),\n",
       " WindowsPath('fruits-360/Training/Apple Crimson Snow/r_96_100.jpg'),\n",
       " WindowsPath('fruits-360/Training/Apple Crimson Snow/r_97_100.jpg'),\n",
       " WindowsPath('fruits-360/Training/Apple Crimson Snow/r_98_100.jpg'),\n",
       " WindowsPath('fruits-360/Training/Apple Crimson Snow/r_99_100.jpg'),\n",
       " WindowsPath('fruits-360/Training/Apple Crimson Snow/r_9_100.jpg')]"
      ]
     },
     "execution_count": 7,
     "metadata": {},
     "output_type": "execute_result"
    }
   ],
   "source": [
    "# Visualiza uma amostra da lista\n",
    "imagens_treino[925:936]"
   ]
  },
  {
   "cell_type": "code",
   "execution_count": 8,
   "id": "8d6b0198",
   "metadata": {},
   "outputs": [],
   "source": [
    "# Expressão lambda que extrai apenas o valor com o caminho de cada imagem -- converter para uma lista\n",
    "imagens_treino = list(map(lambda x: str(x), imagens_treino))"
   ]
  },
  {
   "cell_type": "code",
   "execution_count": 9,
   "id": "19f4a9c4",
   "metadata": {},
   "outputs": [
    {
     "data": {
      "text/plain": [
       "['fruits-360\\\\Training\\\\Apple Crimson Snow\\\\r_90_100.jpg',\n",
       " 'fruits-360\\\\Training\\\\Apple Crimson Snow\\\\r_91_100.jpg',\n",
       " 'fruits-360\\\\Training\\\\Apple Crimson Snow\\\\r_92_100.jpg',\n",
       " 'fruits-360\\\\Training\\\\Apple Crimson Snow\\\\r_93_100.jpg',\n",
       " 'fruits-360\\\\Training\\\\Apple Crimson Snow\\\\r_94_100.jpg',\n",
       " 'fruits-360\\\\Training\\\\Apple Crimson Snow\\\\r_95_100.jpg',\n",
       " 'fruits-360\\\\Training\\\\Apple Crimson Snow\\\\r_96_100.jpg',\n",
       " 'fruits-360\\\\Training\\\\Apple Crimson Snow\\\\r_97_100.jpg',\n",
       " 'fruits-360\\\\Training\\\\Apple Crimson Snow\\\\r_98_100.jpg',\n",
       " 'fruits-360\\\\Training\\\\Apple Crimson Snow\\\\r_99_100.jpg',\n",
       " 'fruits-360\\\\Training\\\\Apple Crimson Snow\\\\r_9_100.jpg']"
      ]
     },
     "execution_count": 9,
     "metadata": {},
     "output_type": "execute_result"
    }
   ],
   "source": [
    "# Visualiza uma amostra da lista\n",
    "imagens_treino[925:936]"
   ]
  },
  {
   "cell_type": "code",
   "execution_count": 10,
   "id": "b909ab76",
   "metadata": {},
   "outputs": [
    {
     "data": {
      "text/plain": [
       "67692"
      ]
     },
     "execution_count": 10,
     "metadata": {},
     "output_type": "execute_result"
    }
   ],
   "source": [
    "# Total de imagens de treino\n",
    "len(imagens_treino)"
   ]
  },
  {
   "cell_type": "markdown",
   "id": "accb8a54",
   "metadata": {},
   "source": [
    "## Pré-Processamento dos Dados"
   ]
  },
  {
   "cell_type": "code",
   "execution_count": 11,
   "id": "18d2567a",
   "metadata": {},
   "outputs": [],
   "source": [
    "# Função que obtém o label de cada imagem \n",
    "def extrai_label(caminho_imagem):\n",
    "    return caminho_imagem.split(\"\\\\\")[-2]"
   ]
  },
  {
   "cell_type": "code",
   "execution_count": 12,
   "id": "cac5d698",
   "metadata": {},
   "outputs": [],
   "source": [
    "# Aplica a função\n",
    "imagens_treino_labels = list(map(lambda x: extrai_label(x), imagens_treino))"
   ]
  },
  {
   "cell_type": "code",
   "execution_count": 13,
   "id": "8fce1dc9",
   "metadata": {},
   "outputs": [
    {
     "data": {
      "text/plain": [
       "['Apple Crimson Snow',\n",
       " 'Apple Crimson Snow',\n",
       " 'Apple Crimson Snow',\n",
       " 'Apple Crimson Snow',\n",
       " 'Apple Crimson Snow',\n",
       " 'Apple Crimson Snow']"
      ]
     },
     "execution_count": 13,
     "metadata": {},
     "output_type": "execute_result"
    }
   ],
   "source": [
    "# Visualiza uma amostra\n",
    "imagens_treino_labels[840:846]"
   ]
  },
  {
   "cell_type": "markdown",
   "id": "f88a94d3",
   "metadata": {},
   "source": [
    " Label encoding (convertendo string para valor numérico)"
   ]
  },
  {
   "cell_type": "code",
   "execution_count": 14,
   "id": "48ff7bdf",
   "metadata": {},
   "outputs": [],
   "source": [
    "# Cria o objeto\n",
    "encoder = LabelEncoder()"
   ]
  },
  {
   "cell_type": "code",
   "execution_count": 15,
   "id": "25c3ae72",
   "metadata": {},
   "outputs": [],
   "source": [
    "# Aplica o fit_transform\n",
    "imagens_treino_labels = encoder.fit_transform(imagens_treino_labels)"
   ]
  },
  {
   "cell_type": "code",
   "execution_count": 16,
   "id": "7d7ed98c",
   "metadata": {},
   "outputs": [
    {
     "data": {
      "text/plain": [
       "array([2, 2, 2, 2, 2, 2], dtype=int64)"
      ]
     },
     "execution_count": 16,
     "metadata": {},
     "output_type": "execute_result"
    }
   ],
   "source": [
    "# Visualiza uma amostra\n",
    "imagens_treino_labels[940:946]"
   ]
  },
  {
   "cell_type": "code",
   "execution_count": 17,
   "id": "18aa82fc",
   "metadata": {},
   "outputs": [],
   "source": [
    "# Aplicamos One-Hot-Encoding nos labels -- Tranforma os labels em vetores\n",
    "imagens_treino_labels = tf.keras.utils.to_categorical(imagens_treino_labels)"
   ]
  },
  {
   "cell_type": "code",
   "execution_count": 18,
   "id": "25ba4f77",
   "metadata": {},
   "outputs": [
    {
     "data": {
      "text/plain": [
       "array([[0., 0., 1., 0., 0., 0., 0., 0., 0., 0., 0., 0., 0., 0., 0., 0.,\n",
       "        0., 0., 0., 0., 0., 0., 0., 0., 0., 0., 0., 0., 0., 0., 0., 0.,\n",
       "        0., 0., 0., 0., 0., 0., 0., 0., 0., 0., 0., 0., 0., 0., 0., 0.,\n",
       "        0., 0., 0., 0., 0., 0., 0., 0., 0., 0., 0., 0., 0., 0., 0., 0.,\n",
       "        0., 0., 0., 0., 0., 0., 0., 0., 0., 0., 0., 0., 0., 0., 0., 0.,\n",
       "        0., 0., 0., 0., 0., 0., 0., 0., 0., 0., 0., 0., 0., 0., 0., 0.,\n",
       "        0., 0., 0., 0., 0., 0., 0., 0., 0., 0., 0., 0., 0., 0., 0., 0.,\n",
       "        0., 0., 0., 0., 0., 0., 0., 0., 0., 0., 0., 0., 0., 0., 0., 0.,\n",
       "        0., 0., 0.],\n",
       "       [0., 0., 1., 0., 0., 0., 0., 0., 0., 0., 0., 0., 0., 0., 0., 0.,\n",
       "        0., 0., 0., 0., 0., 0., 0., 0., 0., 0., 0., 0., 0., 0., 0., 0.,\n",
       "        0., 0., 0., 0., 0., 0., 0., 0., 0., 0., 0., 0., 0., 0., 0., 0.,\n",
       "        0., 0., 0., 0., 0., 0., 0., 0., 0., 0., 0., 0., 0., 0., 0., 0.,\n",
       "        0., 0., 0., 0., 0., 0., 0., 0., 0., 0., 0., 0., 0., 0., 0., 0.,\n",
       "        0., 0., 0., 0., 0., 0., 0., 0., 0., 0., 0., 0., 0., 0., 0., 0.,\n",
       "        0., 0., 0., 0., 0., 0., 0., 0., 0., 0., 0., 0., 0., 0., 0., 0.,\n",
       "        0., 0., 0., 0., 0., 0., 0., 0., 0., 0., 0., 0., 0., 0., 0., 0.,\n",
       "        0., 0., 0.],\n",
       "       [0., 0., 1., 0., 0., 0., 0., 0., 0., 0., 0., 0., 0., 0., 0., 0.,\n",
       "        0., 0., 0., 0., 0., 0., 0., 0., 0., 0., 0., 0., 0., 0., 0., 0.,\n",
       "        0., 0., 0., 0., 0., 0., 0., 0., 0., 0., 0., 0., 0., 0., 0., 0.,\n",
       "        0., 0., 0., 0., 0., 0., 0., 0., 0., 0., 0., 0., 0., 0., 0., 0.,\n",
       "        0., 0., 0., 0., 0., 0., 0., 0., 0., 0., 0., 0., 0., 0., 0., 0.,\n",
       "        0., 0., 0., 0., 0., 0., 0., 0., 0., 0., 0., 0., 0., 0., 0., 0.,\n",
       "        0., 0., 0., 0., 0., 0., 0., 0., 0., 0., 0., 0., 0., 0., 0., 0.,\n",
       "        0., 0., 0., 0., 0., 0., 0., 0., 0., 0., 0., 0., 0., 0., 0., 0.,\n",
       "        0., 0., 0.],\n",
       "       [0., 0., 1., 0., 0., 0., 0., 0., 0., 0., 0., 0., 0., 0., 0., 0.,\n",
       "        0., 0., 0., 0., 0., 0., 0., 0., 0., 0., 0., 0., 0., 0., 0., 0.,\n",
       "        0., 0., 0., 0., 0., 0., 0., 0., 0., 0., 0., 0., 0., 0., 0., 0.,\n",
       "        0., 0., 0., 0., 0., 0., 0., 0., 0., 0., 0., 0., 0., 0., 0., 0.,\n",
       "        0., 0., 0., 0., 0., 0., 0., 0., 0., 0., 0., 0., 0., 0., 0., 0.,\n",
       "        0., 0., 0., 0., 0., 0., 0., 0., 0., 0., 0., 0., 0., 0., 0., 0.,\n",
       "        0., 0., 0., 0., 0., 0., 0., 0., 0., 0., 0., 0., 0., 0., 0., 0.,\n",
       "        0., 0., 0., 0., 0., 0., 0., 0., 0., 0., 0., 0., 0., 0., 0., 0.,\n",
       "        0., 0., 0.],\n",
       "       [0., 0., 1., 0., 0., 0., 0., 0., 0., 0., 0., 0., 0., 0., 0., 0.,\n",
       "        0., 0., 0., 0., 0., 0., 0., 0., 0., 0., 0., 0., 0., 0., 0., 0.,\n",
       "        0., 0., 0., 0., 0., 0., 0., 0., 0., 0., 0., 0., 0., 0., 0., 0.,\n",
       "        0., 0., 0., 0., 0., 0., 0., 0., 0., 0., 0., 0., 0., 0., 0., 0.,\n",
       "        0., 0., 0., 0., 0., 0., 0., 0., 0., 0., 0., 0., 0., 0., 0., 0.,\n",
       "        0., 0., 0., 0., 0., 0., 0., 0., 0., 0., 0., 0., 0., 0., 0., 0.,\n",
       "        0., 0., 0., 0., 0., 0., 0., 0., 0., 0., 0., 0., 0., 0., 0., 0.,\n",
       "        0., 0., 0., 0., 0., 0., 0., 0., 0., 0., 0., 0., 0., 0., 0., 0.,\n",
       "        0., 0., 0.],\n",
       "       [0., 0., 1., 0., 0., 0., 0., 0., 0., 0., 0., 0., 0., 0., 0., 0.,\n",
       "        0., 0., 0., 0., 0., 0., 0., 0., 0., 0., 0., 0., 0., 0., 0., 0.,\n",
       "        0., 0., 0., 0., 0., 0., 0., 0., 0., 0., 0., 0., 0., 0., 0., 0.,\n",
       "        0., 0., 0., 0., 0., 0., 0., 0., 0., 0., 0., 0., 0., 0., 0., 0.,\n",
       "        0., 0., 0., 0., 0., 0., 0., 0., 0., 0., 0., 0., 0., 0., 0., 0.,\n",
       "        0., 0., 0., 0., 0., 0., 0., 0., 0., 0., 0., 0., 0., 0., 0., 0.,\n",
       "        0., 0., 0., 0., 0., 0., 0., 0., 0., 0., 0., 0., 0., 0., 0., 0.,\n",
       "        0., 0., 0., 0., 0., 0., 0., 0., 0., 0., 0., 0., 0., 0., 0., 0.,\n",
       "        0., 0., 0.]], dtype=float32)"
      ]
     },
     "execution_count": 18,
     "metadata": {},
     "output_type": "execute_result"
    }
   ],
   "source": [
    "# Visualiza uma amostra\n",
    "imagens_treino_labels[940:946]"
   ]
  },
  {
   "cell_type": "code",
   "execution_count": 19,
   "id": "f0bd02ee",
   "metadata": {},
   "outputs": [],
   "source": [
    "# Dividimos os dados de treino em duas amostras: treino e validação\n",
    "x_treino, x_valid, y_treino, y_valid = train_test_split(imagens_treino, imagens_treino_labels)"
   ]
  },
  {
   "cell_type": "code",
   "execution_count": 20,
   "id": "f6a4cd30",
   "metadata": {},
   "outputs": [
    {
     "data": {
      "text/plain": [
       "['fruits-360\\\\Training\\\\Cherry 2\\\\r_80_100.jpg',\n",
       " 'fruits-360\\\\Training\\\\Mango Red\\\\r_263_100.jpg',\n",
       " 'fruits-360\\\\Training\\\\Pepino\\\\236_100.jpg']"
      ]
     },
     "execution_count": 20,
     "metadata": {},
     "output_type": "execute_result"
    }
   ],
   "source": [
    "x_treino[15:18]"
   ]
  },
  {
   "cell_type": "code",
   "execution_count": 21,
   "id": "56bd8dfa",
   "metadata": {},
   "outputs": [
    {
     "data": {
      "text/plain": [
       "array([[0., 0., 0., 0., 0., 0., 0., 0., 0., 0., 0., 0., 0., 0., 0., 0.,\n",
       "        0., 0., 0., 0., 0., 0., 0., 0., 0., 0., 0., 1., 0., 0., 0., 0.,\n",
       "        0., 0., 0., 0., 0., 0., 0., 0., 0., 0., 0., 0., 0., 0., 0., 0.,\n",
       "        0., 0., 0., 0., 0., 0., 0., 0., 0., 0., 0., 0., 0., 0., 0., 0.,\n",
       "        0., 0., 0., 0., 0., 0., 0., 0., 0., 0., 0., 0., 0., 0., 0., 0.,\n",
       "        0., 0., 0., 0., 0., 0., 0., 0., 0., 0., 0., 0., 0., 0., 0., 0.,\n",
       "        0., 0., 0., 0., 0., 0., 0., 0., 0., 0., 0., 0., 0., 0., 0., 0.,\n",
       "        0., 0., 0., 0., 0., 0., 0., 0., 0., 0., 0., 0., 0., 0., 0., 0.,\n",
       "        0., 0., 0.],\n",
       "       [0., 0., 0., 0., 0., 0., 0., 0., 0., 0., 0., 0., 0., 0., 0., 0.,\n",
       "        0., 0., 0., 0., 0., 0., 0., 0., 0., 0., 0., 0., 0., 0., 0., 0.,\n",
       "        0., 0., 0., 0., 0., 0., 0., 0., 0., 0., 0., 0., 0., 0., 0., 0.,\n",
       "        0., 0., 0., 0., 0., 0., 0., 0., 0., 0., 0., 0., 0., 0., 0., 0.,\n",
       "        0., 1., 0., 0., 0., 0., 0., 0., 0., 0., 0., 0., 0., 0., 0., 0.,\n",
       "        0., 0., 0., 0., 0., 0., 0., 0., 0., 0., 0., 0., 0., 0., 0., 0.,\n",
       "        0., 0., 0., 0., 0., 0., 0., 0., 0., 0., 0., 0., 0., 0., 0., 0.,\n",
       "        0., 0., 0., 0., 0., 0., 0., 0., 0., 0., 0., 0., 0., 0., 0., 0.,\n",
       "        0., 0., 0.],\n",
       "       [0., 0., 0., 0., 0., 0., 0., 0., 0., 0., 0., 0., 0., 0., 0., 0.,\n",
       "        0., 0., 0., 0., 0., 0., 0., 0., 0., 0., 0., 0., 0., 0., 0., 0.,\n",
       "        0., 0., 0., 0., 0., 0., 0., 0., 0., 0., 0., 0., 0., 0., 0., 0.,\n",
       "        0., 0., 0., 0., 0., 0., 0., 0., 0., 0., 0., 0., 0., 0., 0., 0.,\n",
       "        0., 0., 0., 0., 0., 0., 0., 0., 0., 0., 0., 0., 0., 0., 0., 0.,\n",
       "        0., 0., 0., 0., 0., 0., 0., 0., 0., 0., 0., 0., 1., 0., 0., 0.,\n",
       "        0., 0., 0., 0., 0., 0., 0., 0., 0., 0., 0., 0., 0., 0., 0., 0.,\n",
       "        0., 0., 0., 0., 0., 0., 0., 0., 0., 0., 0., 0., 0., 0., 0., 0.,\n",
       "        0., 0., 0.]], dtype=float32)"
      ]
     },
     "execution_count": 21,
     "metadata": {},
     "output_type": "execute_result"
    }
   ],
   "source": [
    "y_treino[15:18]"
   ]
  },
  {
   "cell_type": "markdown",
   "id": "b9d27195",
   "metadata": {},
   "source": [
    "## Dataset Augmentation"
   ]
  },
  {
   "cell_type": "code",
   "execution_count": 22,
   "id": "ea1c9799",
   "metadata": {},
   "outputs": [],
   "source": [
    "# Redimensionamento de todas as imagens para 224 x 224\n",
    "img_size = 224\n",
    "resize = tf.keras.Sequential([tf.keras.layers.experimental.preprocessing.Resizing(img_size, img_size)])"
   ]
  },
  {
   "cell_type": "code",
   "execution_count": 23,
   "id": "e36334b8",
   "metadata": {},
   "outputs": [],
   "source": [
    "# Cria o objeto para dataset augmentation\n",
    "data_augmentation = tf.keras.Sequential([RandomFlip('horizontal'),\n",
    "                                        RandomRotation(0.2),\n",
    "                                        RandomZoom(height_factor = (-0.3, -0.2))])"
   ]
  },
  {
   "cell_type": "markdown",
   "id": "4fb2a59f",
   "metadata": {},
   "source": [
    "# Preparando os Dados"
   ]
  },
  {
   "cell_type": "code",
   "execution_count": 24,
   "id": "ecf03bc7",
   "metadata": {},
   "outputs": [],
   "source": [
    "# Hiperparâmetros -- controlar o treinamento do modelo\n",
    "batch_size = 32\n",
    "autotune = tf.data.experimental.AUTOTUNE"
   ]
  },
  {
   "cell_type": "code",
   "execution_count": 25,
   "id": "5b7ccab9",
   "metadata": {},
   "outputs": [],
   "source": [
    "# Função para carregar e transformar as imagens\n",
    "def carrega_transforma(image, label):\n",
    "    image = tf.io.read_file(image)\n",
    "    image = tf.io.decode_jpeg(image, channels = 3)\n",
    "    return image, label"
   ]
  },
  {
   "cell_type": "code",
   "execution_count": 26,
   "id": "ae18ce49",
   "metadata": {},
   "outputs": [],
   "source": [
    "# Função para preparar os dados no formato do TensorFlow\n",
    "def prepara_dataset(path, labels, train = True):\n",
    "    \n",
    "    # Prepara os dados\n",
    "    # Organizar os dados em tensor\n",
    "    image_paths = tf.convert_to_tensor(path)\n",
    "    labels = tf.convert_to_tensor(labels)\n",
    "    \n",
    "    image_dataset = tf.data.Dataset.from_tensor_slices(image_paths)\n",
    "    label_dataset = tf.data.Dataset.from_tensor_slices(labels)\n",
    "    \n",
    "    dataset = tf.data.Dataset.zip((image_dataset, label_dataset))\n",
    "    dataset = dataset.map(lambda image, label: carrega_transforma(image, label))\n",
    "    dataset = dataset.map(lambda image, label: (resize(image), label), num_parallel_calls = autotune)\n",
    "    dataset = dataset.shuffle(1000)\n",
    "    dataset = dataset.batch(batch_size)\n",
    "    \n",
    "    \n",
    "    # Se train = True aplica dataset augmentation\n",
    "    if train:\n",
    "        dataset = dataset.map(lambda image, label: (data_augmentation(image), label), num_parallel_calls = autotune)\n",
    "        \n",
    "        \n",
    "    # Se train = False repete sobre o dataset e retorna\n",
    "    dataset = dataset.repeat()\n",
    "    \n",
    "    \n",
    "    return dataset\n",
    "\n"
   ]
  },
  {
   "cell_type": "code",
   "execution_count": 27,
   "id": "14b16c71",
   "metadata": {
    "scrolled": true
   },
   "outputs": [
    {
     "name": "stdout",
     "output_type": "stream",
     "text": [
      "WARNING:tensorflow:Using a while_loop for converting RngReadAndSkip cause there is no registered converter for this op.\n",
      "WARNING:tensorflow:Using a while_loop for converting Bitcast cause there is no registered converter for this op.\n",
      "WARNING:tensorflow:Using a while_loop for converting Bitcast cause there is no registered converter for this op.\n",
      "WARNING:tensorflow:Using a while_loop for converting StatelessRandomUniformV2 cause there is no registered converter for this op.\n",
      "WARNING:tensorflow:Using a while_loop for converting ImageProjectiveTransformV3 cause there is no registered converter for this op.\n",
      "WARNING:tensorflow:Using a while_loop for converting RngReadAndSkip cause there is no registered converter for this op.\n",
      "WARNING:tensorflow:Using a while_loop for converting Bitcast cause there is no registered converter for this op.\n",
      "WARNING:tensorflow:Using a while_loop for converting Bitcast cause there is no registered converter for this op.\n",
      "WARNING:tensorflow:Using a while_loop for converting StatelessRandomUniformV2 cause there is no registered converter for this op.\n",
      "WARNING:tensorflow:Using a while_loop for converting ImageProjectiveTransformV3 cause there is no registered converter for this op.\n",
      "WARNING:tensorflow:Using a while_loop for converting RngReadAndSkip cause there is no registered converter for this op.\n",
      "WARNING:tensorflow:Using a while_loop for converting Bitcast cause there is no registered converter for this op.\n",
      "WARNING:tensorflow:Using a while_loop for converting Bitcast cause there is no registered converter for this op.\n",
      "WARNING:tensorflow:Using a while_loop for converting StatelessRandomUniformV2 cause there is no registered converter for this op.\n",
      "WARNING:tensorflow:Using a while_loop for converting ImageProjectiveTransformV3 cause there is no registered converter for this op.\n",
      "WARNING:tensorflow:Using a while_loop for converting RngReadAndSkip cause there is no registered converter for this op.\n",
      "WARNING:tensorflow:Using a while_loop for converting Bitcast cause there is no registered converter for this op.\n",
      "WARNING:tensorflow:Using a while_loop for converting Bitcast cause there is no registered converter for this op.\n",
      "WARNING:tensorflow:Using a while_loop for converting StatelessRandomUniformV2 cause there is no registered converter for this op.\n",
      "WARNING:tensorflow:Using a while_loop for converting ImageProjectiveTransformV3 cause there is no registered converter for this op.\n"
     ]
    }
   ],
   "source": [
    "# Cria o dataset de treino\n",
    "dataset_treino = prepara_dataset(x_treino, y_treino)"
   ]
  },
  {
   "cell_type": "code",
   "execution_count": 28,
   "id": "333ac74e",
   "metadata": {},
   "outputs": [
    {
     "name": "stdout",
     "output_type": "stream",
     "text": [
      "(32, 224, 224, 3)\n",
      "(32, 131)\n"
     ]
    }
   ],
   "source": [
    "# Shape\n",
    "imagem, label = next(iter(dataset_treino))  #lote de imagens\n",
    "print(imagem.shape)\n",
    "print(label.shape)"
   ]
  },
  {
   "cell_type": "markdown",
   "id": "0a99909d",
   "metadata": {},
   "source": [
    "Lote de 32 imagens de 224x224, com 3 canais de cores"
   ]
  },
  {
   "cell_type": "code",
   "execution_count": 29,
   "id": "e7be651c",
   "metadata": {},
   "outputs": [
    {
     "name": "stdout",
     "output_type": "stream",
     "text": [
      "Kaki\n"
     ]
    },
    {
     "data": {
      "text/plain": [
       "<matplotlib.image.AxesImage at 0x1c06edc98d0>"
      ]
     },
     "execution_count": 29,
     "metadata": {},
     "output_type": "execute_result"
    },
    {
     "data": {
      "image/png": "[encoded data removed]",
      "text/plain": [
       "<Figure size 640x480 with 1 Axes>"
      ]
     },
     "metadata": {},
     "output_type": "display_data"
    }
   ],
   "source": [
    "# Visualizar uma imagem e um label\n",
    "print(encoder.inverse_transform(np.argmax(label, axis =1))[0])  # O inverso do encoder transforma em imagem\n",
    "plt.imshow((imagem[0].numpy()/255).reshape(224, 224, 3))"
   ]
  },
  {
   "cell_type": "code",
   "execution_count": 30,
   "id": "b7ce98b8",
   "metadata": {},
   "outputs": [],
   "source": [
    "# Criar dataset de validação\n",
    "dataset_valida = prepara_dataset(x_valid, y_valid, train = False)"
   ]
  },
  {
   "cell_type": "code",
   "execution_count": 31,
   "id": "be60e45c",
   "metadata": {},
   "outputs": [
    {
     "name": "stdout",
     "output_type": "stream",
     "text": [
      "(32, 224, 224, 3)\n",
      "(32, 131)\n"
     ]
    }
   ],
   "source": [
    "# Shape\n",
    "imagem, label = next(iter(dataset_valida))\n",
    "print(imagem.shape)\n",
    "print(label.shape)"
   ]
  },
  {
   "cell_type": "markdown",
   "id": "fd503f6a",
   "metadata": {},
   "source": [
    "# Construção do Modelo"
   ]
  },
  {
   "cell_type": "code",
   "execution_count": 32,
   "id": "e4b20494",
   "metadata": {},
   "outputs": [],
   "source": [
    "# Carrega um modelo pré-treinado\n",
    "modelo_pre = EfficientNetB3(input_shape=(224, 224, 3), include_top= False)"
   ]
  },
  {
   "cell_type": "code",
   "execution_count": 33,
   "id": "a36c3098",
   "metadata": {},
   "outputs": [],
   "source": [
    "# Adicionando nossas próprias camadas ao modelo_pre\n",
    "modelo = tf.keras.Sequential([modelo_pre,\n",
    "                            tf.keras.layers.GlobalAveragePooling2D(),\n",
    "                            tf.keras.layers.Dense(131, activation = 'softmax')]) #131 probabilidade"
   ]
  },
  {
   "cell_type": "code",
   "execution_count": 34,
   "id": "8f31e064",
   "metadata": {},
   "outputs": [
    {
     "name": "stdout",
     "output_type": "stream",
     "text": [
      "Model: \"sequential_2\"\n",
      "_________________________________________________________________\n",
      " Layer (type)                Output Shape              Param #   \n",
      "=================================================================\n",
      " efficientnetb3 (Functional)  (None, 7, 7, 1536)       10783535  \n",
      "                                                                 \n",
      " global_average_pooling2d (G  (None, 1536)             0         \n",
      " lobalAveragePooling2D)                                          \n",
      "                                                                 \n",
      " dense (Dense)               (None, 131)               201347    \n",
      "                                                                 \n",
      "=================================================================\n",
      "Total params: 10,984,882\n",
      "Trainable params: 10,897,579\n",
      "Non-trainable params: 87,303\n",
      "_________________________________________________________________\n"
     ]
    }
   ],
   "source": [
    "# Sumário do modelo\n",
    "modelo.summary()"
   ]
  },
  {
   "cell_type": "code",
   "execution_count": 35,
   "id": "c864f56d",
   "metadata": {},
   "outputs": [],
   "source": [
    "# Hiperparâmetros\n",
    "lr = 0.001\n",
    "beta1 = 0.9\n",
    "beta2 = 0.999\n",
    "ep = 1e-07"
   ]
  },
  {
   "cell_type": "code",
   "execution_count": 36,
   "id": "22ddfd23",
   "metadata": {},
   "outputs": [],
   "source": [
    "# Compilação do modelo\n",
    "modelo.compile(optimizer = Adam(learning_rate = lr, \n",
    "                                beta_1 = beta1, \n",
    "                                beta_2 = beta2, \n",
    "                                epsilon = ep),\n",
    "               loss = 'categorical_crossentropy',\n",
    "               metrics = ['accuracy', Precision(name = 'precision'), Recall(name = 'recall')])"
   ]
  },
  {
   "cell_type": "code",
   "execution_count": 37,
   "id": "999409a2",
   "metadata": {},
   "outputs": [],
   "source": [
    "%%time\n",
    "history = modelo.fit(dataset_treino,\n",
    "                     steps_per_epoch = len(x_treino)//batch_size,\n",
    "                     epochs = 1,  # tem que experimentar a qtdd de epoca ideal\n",
    "                     validation_data = dataset_valida,\n",
    "                     validation_steps = len(y_treino)//batch_size)"
   ]
  },
  {
   "cell_type": "code",
   "execution_count": 2,
   "id": "9679b4b3",
   "metadata": {},
   "outputs": [
    {
     "ename": "NameError",
     "evalue": "name 'modelo' is not defined",
     "output_type": "error",
     "traceback": [
      "\u001b[1;31m---------------------------------------------------------------------------\u001b[0m",
      "\u001b[1;31mNameError\u001b[0m                                 Traceback (most recent call last)",
      "Cell \u001b[1;32mIn [2], line 2\u001b[0m\n\u001b[0;32m      1\u001b[0m \u001b[39m# Não precisamos mais do modelo_pre\u001b[39;00m\n\u001b[1;32m----> 2\u001b[0m modelo\u001b[39m.\u001b[39mlayers[\u001b[39m0\u001b[39m]\u001b[39m.\u001b[39mtrainable \u001b[39m=\u001b[39m \u001b[39mFalse\u001b[39;00m\n",
      "\u001b[1;31mNameError\u001b[0m: name 'modelo' is not defined"
     ]
    }
   ],
   "source": [
    "# Não precisamos mais do modelo_pre\n",
    "modelo.layers[0].trainable = False"
   ]
  },
  {
   "cell_type": "code",
   "execution_count": null,
   "id": "5d23f7ac",
   "metadata": {},
   "outputs": [],
   "source": [
    "# Checkpoint -- para quando encontrar o modelo ideal salvar em disco\n",
    "checkpoint = tf.keras.callbacks.ModelCheckpoint(\"modelo/melhor_modelo.h5\",\n",
    "                                                verbose = 1,\n",
    "                                                save_best = True,\n",
    "                                                save_weights_only = True)"
   ]
  },
  {
   "cell_type": "code",
   "execution_count": null,
   "id": "bc96e0e0",
   "metadata": {},
   "outputs": [],
   "source": [
    "# Early stop -- se não houver melhora no treinamento ele para o modelo, por 4 épocas\n",
    "early_stop = tf.keras.callbacks.EarlyStopping(patience = 4)"
   ]
  },
  {
   "cell_type": "code",
   "execution_count": null,
   "id": "81486928",
   "metadata": {},
   "outputs": [],
   "source": [
    "# Sumario\n",
    "modelo.summary()"
   ]
  },
  {
   "cell_type": "code",
   "execution_count": null,
   "id": "3f42878f",
   "metadata": {},
   "outputs": [],
   "source": [
    "%%time\n",
    "history = modelo.fit(dataset_treino,\n",
    "                     steps_per_epoch = len(x_treino)//batch_size,\n",
    "                     epochs = 6,  # tem que experimentar a qtdd de epoca ideal\n",
    "                     validation_data = dataset_valida,\n",
    "                     validation_steps = len(y_treino)//batch_size,\n",
    "                     callbacks = [checkpoint, early_stop]) #monitorando o modelo"
   ]
  },
  {
   "cell_type": "markdown",
   "id": "00b97d30",
   "metadata": {},
   "source": [
    "## Avaliação do Modelo"
   ]
  },
  {
   "cell_type": "markdown",
   "id": "18374dea",
   "metadata": {},
   "source": [
    "# Carregar os pesos, precisamos descongelar as camadas\n",
    "modelo.layers[0].trainable = True"
   ]
  },
  {
   "cell_type": "code",
   "execution_count": null,
   "id": "1ef2e81e",
   "metadata": {},
   "outputs": [],
   "source": [
    "# Carrega os pesos do ponto de verificação e reavalie\n",
    "modelo.load_weights(\"modelo/melhor_modelo.h5\")"
   ]
  },
  {
   "cell_type": "markdown",
   "id": "065afd88",
   "metadata": {},
   "source": [
    "        Carregamos os dados de teste"
   ]
  },
  {
   "cell_type": "code",
   "execution_count": null,
   "id": "baf9d708",
   "metadata": {},
   "outputs": [],
   "source": [
    "# Carregando e preparando os dados de teste\n",
    "caminho_imagens_teste = list(caminho_dados_teste.glob(\"*/*\"))\n",
    "imagens_teste = list(map(lambda x: str(x), caminho_imagens_teste))\n",
    "imagens_teste_labels = list(map(lambda x; extrai_label(x), imagens_teste))\n",
    "imagens_teste_labels = encoder.fit_transform(imagens_teste_labels)\n",
    "imagens_teste_labels = tf.keras.utils.to_categorical(imagens_teste_labels)\n",
    "\n",
    "teste_image_paths = tf.convert_to_tensor(imagens_teste)\n",
    "test_image_labels = tf.convert_to_tensor(imagens_teste_labels)"
   ]
  },
  {
   "cell_type": "code",
   "execution_count": null,
   "id": "cffbf17b",
   "metadata": {},
   "outputs": [],
   "source": [
    "# Função para decode das imagens\n",
    "def decode_imagens(image, label):\n",
    "    image = tf.io.read_file(image)\n",
    "    image = tf.io.decode_jpeg(image, channels = 3)\n",
    "    image = tf.image.resize(image, [224,224], method = \"bilinear\")\n",
    "    return image, label"
   ]
  },
  {
   "cell_type": "code",
   "execution_count": null,
   "id": "839dfc22",
   "metadata": {},
   "outputs": [],
   "source": [
    "# Cria o dataset de teste\n",
    "dataset_teste = (tf.data.Dataset\n",
    "                .from_tensor_slices((imagens_teste, imagens_teste_labels))\n",
    "                .map(decode_imagens)\n",
    "                .batch(batch_size))"
   ]
  },
  {
   "cell_type": "code",
   "execution_count": null,
   "id": "7f23940f",
   "metadata": {},
   "outputs": [],
   "source": [
    "# Shape\n",
    "imagem, label = next(iter(dataset_teste))\n",
    "print(imagem.shape)\n",
    "print(label.shape)"
   ]
  },
  {
   "cell_type": "code",
   "execution_count": null,
   "id": "7edb1aaa",
   "metadata": {},
   "outputs": [],
   "source": [
    "# Visualizar uma imagem de teste\n",
    "print(encoder.inverse_transform(np.argmax(label, axis = 1))[0])\n",
    "plt.imshow((imagem[0].numpy()/255).reshape(224, 224, 3))"
   ]
  },
  {
   "cell_type": "code",
   "execution_count": null,
   "id": "3a6ff587",
   "metadata": {},
   "outputs": [],
   "source": [
    "# Avalia o modelo\n",
    "loss, acc, prec, rec = modelo.evaluate(dataset_teste)"
   ]
  },
  {
   "cell_type": "code",
   "execution_count": null,
   "id": "14722f0f",
   "metadata": {},
   "outputs": [],
   "source": [
    "print(\"Acurácia: \", acc)\n",
    "print(\"Precision: \", prec)\n",
    "print(\"Recall: \", rec)"
   ]
  }
 ],
 "metadata": {
  "kernelspec": {
   "display_name": "Python 3.10.7 64-bit",
   "language": "python",
   "name": "python3"
  },
  "language_info": {
   "codemirror_mode": {
    "name": "ipython",
    "version": 3
   },
   "file_extension": ".py",
   "mimetype": "text/x-python",
   "name": "python",
   "nbconvert_exporter": "python",
   "pygments_lexer": "ipython3",
   "version": "3.10.7"
  },
  "vscode": {
   "interpreter": {
    "hash": "fee127bbb05d422205529e3b2442aa2f6a8a60c2a6406f0c7b9a160de6ca12b0"
   }
  }
 },
 "nbformat": 4,
 "nbformat_minor": 5
}
