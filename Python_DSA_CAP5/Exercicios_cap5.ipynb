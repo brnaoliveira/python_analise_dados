{
 "cells": [
  {
   "cell_type": "markdown",
   "id": "763a37e5",
   "metadata": {},
   "source": [
    "# EXERCÍCIOS"
   ]
  },
  {
   "cell_type": "code",
   "execution_count": 1,
   "id": "d86b823f",
   "metadata": {},
   "outputs": [],
   "source": [
    "# Exercício 1 - Crie um objeto a partir da classe abaixo, chamado roc1, passando 2 parâmetros e depois faça uma chamada\n",
    "# aos atributos e métodos\n",
    "\n",
    "from math import sqrt\n",
    "\n",
    "class Rocket():\n",
    "     \n",
    "    def __init__(self, x=0, y=0):\n",
    "        self.x = x\n",
    "        self.y = y\n",
    "        \n",
    "    def move_rocket(self, x_increment=0, y_increment=1):\n",
    "        self.x += x_increment\n",
    "        self.y += y_increment\n",
    "        \n",
    "    def print_rocket(self):\n",
    "        print(self.x, self.y)\n",
    "        \n",
    "        "
   ]
  },
  {
   "cell_type": "code",
   "execution_count": 9,
   "id": "4def3fec",
   "metadata": {},
   "outputs": [
    {
     "name": "stdout",
     "output_type": "stream",
     "text": [
      "20 5\n",
      "54 61\n"
     ]
    }
   ],
   "source": [
    "roc1=Rocket(20,5)\n",
    "\n",
    "#chamando os atributos\n",
    "roc1.x\n",
    "roc1.y\n",
    "\n",
    "#chamando os métodos\n",
    "\n",
    "roc1.print_rocket()  #método print_rocket\n",
    "\n",
    "roc1.move_rocket(34,56) #método move_rocket - incrementa os valores já passados com os de agora\n",
    "roc1.print_rocket()  #método print_rocket"
   ]
  },
  {
   "cell_type": "code",
   "execution_count": 13,
   "id": "32fcdff9",
   "metadata": {},
   "outputs": [
    {
     "name": "stdout",
     "output_type": "stream",
     "text": [
      "Tudo certo\n"
     ]
    },
    {
     "data": {
      "text/plain": [
       "'O usuário João mora na cidade Natal e tem o telefone 11111111'"
      ]
     },
     "execution_count": 13,
     "metadata": {},
     "output_type": "execute_result"
    }
   ],
   "source": [
    "# Exercício 2 - Crie uma classe chamada Pessoa() com os atributos: nome, cidade, telefone e e-mail. Use pelo menos 2\n",
    "# métodos especiais na sua classe. Crie um objeto da sua classe e faça uma chamada a pelo menos um dos seus métodos\n",
    "# especiais\n",
    "\n",
    "class Pessoa:\n",
    "    \n",
    "    \n",
    "    def __init__(self, nome, cidade, telefone, email):\n",
    "        self.nome=nome\n",
    "        self.cidade=cidade\n",
    "        self.telefone=telefone\n",
    "        self.email=email\n",
    "        print('Tudo certo')\n",
    "        \n",
    "    def __str__(self):\n",
    "        return \"O usuário \" + self.nome + \" mora na cidade \" + self.cidade + \" e tem o telefone \" + self.telefone\n",
    "    \n",
    "\n",
    "pessoa1=Pessoa('João','Natal','11111111','joao23@gmail.com')\n",
    "\n",
    "str(pessoa1) #chamar o método\n",
    "        "
   ]
  },
  {
   "cell_type": "code",
   "execution_count": 17,
   "id": "ced293cb",
   "metadata": {},
   "outputs": [
    {
     "name": "stdout",
     "output_type": "stream",
     "text": [
      "O smartphone tem um tamanho pequeno com interface de led e uma capacidade de 32 gb \n"
     ]
    }
   ],
   "source": [
    "# Exercício 3 - Crie a classe Smartphone com 2 atributos, tamanho e interface e crie a classe MP3Player com os \n",
    "# atributos capacidade. A classe MP3player deve herdar os atributos da classe Smartphone.\n",
    "\n",
    "class Smartphone(object):\n",
    "    def __init__(self, tamanho, interface):\n",
    "        self.tamanho=tamanho\n",
    "        self.interface=interface\n",
    "        \n",
    "class MP3player(Smartphone):\n",
    "    def __init__(self, capacidade, tamanho='pequeno', interface='led'):\n",
    "        self.capacidade = capacidade\n",
    "        Smartphone.__init__(self, tamanho, interface)\n",
    "        \n",
    "    def print_mp3(self):\n",
    "        print(\"O smartphone tem um tamanho %s com interface de %s e uma capacidade de %s \" %(self.tamanho, self.interface,self.capacidade))\n",
    "        \n",
    "        \n",
    "dev= MP3player('32 gb')\n",
    "dev.print_mp3()"
   ]
  },
  {
   "cell_type": "code",
   "execution_count": null,
   "id": "9f023fba",
   "metadata": {},
   "outputs": [],
   "source": []
  }
 ],
 "metadata": {
  "kernelspec": {
   "display_name": "Python 3 (ipykernel)",
   "language": "python",
   "name": "python3"
  },
  "language_info": {
   "codemirror_mode": {
    "name": "ipython",
    "version": 3
   },
   "file_extension": ".py",
   "mimetype": "text/x-python",
   "name": "python",
   "nbconvert_exporter": "python",
   "pygments_lexer": "ipython3",
   "version": "3.9.12"
  }
 },
 "nbformat": 4,
 "nbformat_minor": 5
}
